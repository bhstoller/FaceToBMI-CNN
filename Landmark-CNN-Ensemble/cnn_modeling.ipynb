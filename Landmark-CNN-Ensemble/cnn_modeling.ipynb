{
 "cells": [
  {
   "cell_type": "markdown",
   "id": "872e5eb4",
   "metadata": {},
   "source": [
    "# Import Library"
   ]
  },
  {
   "cell_type": "code",
   "execution_count": 15,
   "id": "b446532a",
   "metadata": {},
   "outputs": [],
   "source": [
    "import os\n",
    "import pandas as pd\n",
    "from PIL import Image\n",
    "from torch.utils.data import Dataset\n",
    "from torchvision import transforms\n",
    "from torch.utils.data import DataLoader, random_split\n",
    "import torch\n",
    "import torch.nn as nn\n",
    "import torchvision.models as models\n",
    "from torchvision.models import MobileNet_V3_Small_Weights\n",
    "from tqdm import tqdm\n",
    "from tqdm import tqdm\n",
    "from sklearn.metrics import mean_absolute_error, r2_score\n",
    "from torchvision.models import mobilenet_v3_small, MobileNet_V3_Small_Weights\n",
    "import torch.nn as nn\n",
    "from sklearn.preprocessing import StandardScaler\n",
    "import pandas as pd\n",
    "import numpy as np\n",
    "from scipy.stats import pearsonr"
   ]
  },
  {
   "cell_type": "code",
   "execution_count": 16,
   "id": "22611a54",
   "metadata": {},
   "outputs": [
    {
     "name": "stdout",
     "output_type": "stream",
     "text": [
      "Using cpu as device.\n"
     ]
    }
   ],
   "source": [
    "if torch.cuda.is_available():\n",
    "    device = \"cuda\"\n",
    "else:\n",
    "    device = \"cpu\"\n",
    "\n",
    "print(f\"Using {device} as device.\")"
   ]
  },
  {
   "cell_type": "markdown",
   "id": "c1bdc717",
   "metadata": {},
   "source": [
    "# Function Library"
   ]
  },
  {
   "cell_type": "code",
   "execution_count": 17,
   "id": "43c5be35",
   "metadata": {},
   "outputs": [],
   "source": [
    "def train_model(model, train_loader, val_loader, y_scaler, epochs=5):\n",
    "    model.to(device)\n",
    "\n",
    "    for epoch in range(epochs):\n",
    "        model.train()\n",
    "        train_loss = 0.0\n",
    "\n",
    "        for imgs, _, idxs in tqdm(train_loader):\n",
    "            imgs = imgs.to(device)\n",
    "            labels = torch.tensor(bmis_scaled[idxs], dtype=torch.float32).unsqueeze(1).to(device)\n",
    "\n",
    "            preds = model(imgs)\n",
    "            loss = criterion(preds, labels)\n",
    "\n",
    "            optimizer.zero_grad()\n",
    "            loss.backward()\n",
    "            optimizer.step()\n",
    "            train_loss += loss.item()\n",
    "\n",
    "        print(f\"\\nEpoch {epoch+1}: Train Loss = {train_loss/len(train_loader):.4f}\")\n",
    "\n",
    "        # Validation\n",
    "        model.eval()\n",
    "        val_preds, val_labels = [], []\n",
    "\n",
    "        with torch.no_grad():\n",
    "            for imgs, _, idxs in val_loader:\n",
    "                imgs = imgs.to(device)\n",
    "                labels = torch.tensor(bmis_scaled[idxs], dtype=torch.float32).unsqueeze(1).to(device)\n",
    "\n",
    "                preds = model(imgs)\n",
    "                val_preds.extend(preds.cpu().numpy())\n",
    "                val_labels.extend(labels.cpu().numpy())\n",
    "\n",
    "        # Convert back to original BMI units\n",
    "        val_preds_real = y_scaler.inverse_transform(np.array(val_preds).reshape(-1, 1)).ravel()\n",
    "        val_labels_real = y_scaler.inverse_transform(np.array(val_labels).reshape(-1, 1)).ravel()\n",
    "\n",
    "        mae = mean_absolute_error(val_labels_real, val_preds_real)\n",
    "        r2 = r2_score(val_labels_real, val_preds_real)\n",
    "        r, _ = pearsonr(val_labels_real, val_preds_real)\n",
    "        print(f\"Val MAE: {mae:.2f} | Val R²: {r2:.3f} | Pearson r: {r:.3f}\")\n"
   ]
  },
  {
   "cell_type": "markdown",
   "id": "3e9619e2",
   "metadata": {},
   "source": [
    "# Class Library"
   ]
  },
  {
   "cell_type": "code",
   "execution_count": 18,
   "id": "c080b418",
   "metadata": {},
   "outputs": [],
   "source": [
    "class BMIDataset(Dataset):\n",
    "    def __init__(self, csv_path, image_dir, transform=None):\n",
    "        self.df = pd.read_csv(csv_path)\n",
    "        self.image_dir = image_dir\n",
    "        self.transform = transform\n",
    "        \n",
    "        # Remove any rows without image files\n",
    "        self.df['full_path'] = self.df['name'].apply(lambda x: os.path.join(image_dir, x))\n",
    "        self.df = self.df[self.df['full_path'].apply(os.path.exists)].reset_index(drop=True)\n",
    "\n",
    "    def __len__(self):\n",
    "        return len(self.df)\n",
    "\n",
    "    def __getitem__(self, idx):\n",
    "        row = self.df.iloc[idx]\n",
    "        img = Image.open(row['full_path']).convert('RGB')\n",
    "\n",
    "        if self.transform:\n",
    "            img = self.transform(img)\n",
    "\n",
    "        label = row['bmi']\n",
    "        return img, label, idx "
   ]
  },
  {
   "cell_type": "markdown",
   "id": "24b5c51c",
   "metadata": {},
   "source": [
    "# Dataset Transformation"
   ]
  },
  {
   "cell_type": "code",
   "execution_count": 19,
   "id": "8ae13421",
   "metadata": {},
   "outputs": [],
   "source": [
    "# Basic transform\n",
    "img_transform = transforms.Compose([\n",
    "    transforms.Resize((224, 224)),\n",
    "    transforms.ToTensor(),\n",
    "    transforms.Normalize(mean=[0.5]*3, std=[0.5]*3)  # Normalized to [-1, 1]\n",
    "])\n",
    "\n",
    "# Dataset\n",
    "dataset = BMIDataset(\n",
    "    csv_path='landmark_features.csv',\n",
    "    image_dir='../data/BMI/Images',\n",
    "    transform=img_transform\n",
    ")\n",
    "\n",
    "# Split dataset\n",
    "train_size = int(0.8 * len(dataset))\n",
    "val_size = len(dataset) - train_size\n",
    "train_dataset, val_dataset = random_split(dataset, [train_size, val_size])\n",
    "\n",
    "# DataLoaders\n",
    "train_loader = DataLoader(train_dataset, batch_size=32, shuffle=True)\n",
    "val_loader = DataLoader(val_dataset, batch_size=32, shuffle=False)"
   ]
  },
  {
   "cell_type": "code",
   "execution_count": 20,
   "id": "b1c2385d",
   "metadata": {},
   "outputs": [],
   "source": [
    "# Load BMI column and scale\n",
    "df = pd.read_csv('landmark_features.csv')\n",
    "bmis = df['bmi'].values\n",
    "y_scaler = StandardScaler()\n",
    "bmis_scaled = y_scaler.fit_transform(bmis.reshape(-1, 1)).ravel()"
   ]
  },
  {
   "cell_type": "code",
   "execution_count": 21,
   "id": "0cda735a",
   "metadata": {},
   "outputs": [],
   "source": [
    "# Load pretrained model with proper weights argument\n",
    "weights = MobileNet_V3_Small_Weights.DEFAULT\n",
    "model = mobilenet_v3_small(weights=weights)\n",
    "\n",
    "# Fully replace classifier for regression\n",
    "model.classifier = nn.Sequential(\n",
    "    nn.Linear(model.classifier[0].in_features, 256),\n",
    "    nn.ReLU(),\n",
    "    nn.Dropout(0.3),\n",
    "    nn.Linear(256, 128),\n",
    "    nn.ReLU(),\n",
    "    nn.Dropout(0.3),\n",
    "    nn.Linear(128, 1)\n",
    ")"
   ]
  },
  {
   "cell_type": "code",
   "execution_count": 22,
   "id": "024a02c8",
   "metadata": {},
   "outputs": [],
   "source": [
    "# Loss: Mean Squared Error for regression\n",
    "criterion = nn.MSELoss()"
   ]
  },
  {
   "cell_type": "code",
   "execution_count": 23,
   "id": "51214c28",
   "metadata": {},
   "outputs": [],
   "source": [
    "# Optimizer\n",
    "optimizer = torch.optim.Adam(model.parameters(), lr=1e-4)"
   ]
  },
  {
   "cell_type": "code",
   "execution_count": 24,
   "id": "e31c51f4",
   "metadata": {},
   "outputs": [
    {
     "name": "stderr",
     "output_type": "stream",
     "text": [
      "100%|██████████| 99/99 [06:56<00:00,  4.21s/it]\n"
     ]
    },
    {
     "name": "stdout",
     "output_type": "stream",
     "text": [
      "\n",
      "Epoch 1: Train Loss = 0.9689\n",
      "Val MAE: 5.72 | Val R²: 0.127 | Pearson r: 0.448\n"
     ]
    },
    {
     "name": "stderr",
     "output_type": "stream",
     "text": [
      "100%|██████████| 99/99 [07:07<00:00,  4.31s/it]\n"
     ]
    },
    {
     "name": "stdout",
     "output_type": "stream",
     "text": [
      "\n",
      "Epoch 2: Train Loss = 0.7339\n",
      "Val MAE: 5.07 | Val R²: 0.296 | Pearson r: 0.553\n"
     ]
    },
    {
     "name": "stderr",
     "output_type": "stream",
     "text": [
      "100%|██████████| 99/99 [09:01<00:00,  5.47s/it]\n"
     ]
    },
    {
     "name": "stdout",
     "output_type": "stream",
     "text": [
      "\n",
      "Epoch 3: Train Loss = 0.5622\n",
      "Val MAE: 4.90 | Val R²: 0.338 | Pearson r: 0.584\n"
     ]
    },
    {
     "name": "stderr",
     "output_type": "stream",
     "text": [
      "100%|██████████| 99/99 [07:59<00:00,  4.84s/it]\n"
     ]
    },
    {
     "name": "stdout",
     "output_type": "stream",
     "text": [
      "\n",
      "Epoch 4: Train Loss = 0.4479\n",
      "Val MAE: 5.69 | Val R²: 0.211 | Pearson r: 0.580\n"
     ]
    },
    {
     "name": "stderr",
     "output_type": "stream",
     "text": [
      "100%|██████████| 99/99 [10:49<00:00,  6.56s/it]\n"
     ]
    },
    {
     "name": "stdout",
     "output_type": "stream",
     "text": [
      "\n",
      "Epoch 5: Train Loss = 0.3314\n",
      "Val MAE: 4.91 | Val R²: 0.324 | Pearson r: 0.580\n"
     ]
    }
   ],
   "source": [
    "train_model(model, train_loader, val_loader, y_scaler, epochs= 5)"
   ]
  },
  {
   "cell_type": "code",
   "execution_count": 14,
   "id": "e36c6bf0",
   "metadata": {},
   "outputs": [],
   "source": [
    "torch.save(model.state_dict(), \"cnn_model_final.pt\")"
   ]
  }
 ],
 "metadata": {
  "kernelspec": {
   "display_name": "ml2",
   "language": "python",
   "name": "python3"
  },
  "language_info": {
   "codemirror_mode": {
    "name": "ipython",
    "version": 3
   },
   "file_extension": ".py",
   "mimetype": "text/x-python",
   "name": "python",
   "nbconvert_exporter": "python",
   "pygments_lexer": "ipython3",
   "version": "3.10.16"
  }
 },
 "nbformat": 4,
 "nbformat_minor": 5
}
