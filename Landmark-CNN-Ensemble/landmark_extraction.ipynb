{
 "cells": [
  {
   "cell_type": "markdown",
   "id": "8c49169f",
   "metadata": {},
   "source": [
    "# Import Library"
   ]
  },
  {
   "cell_type": "code",
   "execution_count": 5,
   "id": "bf24bb2c",
   "metadata": {},
   "outputs": [],
   "source": [
    "import os\n",
    "import pandas as pd\n",
    "import numpy as np\n",
    "import face_alignment\n",
    "from face_alignment import LandmarksType\n",
    "import cv2\n",
    "from tqdm import tqdm"
   ]
  },
  {
   "cell_type": "markdown",
   "id": "166b989c",
   "metadata": {},
   "source": [
    "# Function Library"
   ]
  },
  {
   "cell_type": "markdown",
   "id": "16441008",
   "metadata": {},
   "source": [
    "# Data Loading"
   ]
  },
  {
   "cell_type": "code",
   "execution_count": 2,
   "id": "cb54ba54",
   "metadata": {},
   "outputs": [
    {
     "data": {
      "text/html": [
       "<div>\n",
       "<style scoped>\n",
       "    .dataframe tbody tr th:only-of-type {\n",
       "        vertical-align: middle;\n",
       "    }\n",
       "\n",
       "    .dataframe tbody tr th {\n",
       "        vertical-align: top;\n",
       "    }\n",
       "\n",
       "    .dataframe thead th {\n",
       "        text-align: right;\n",
       "    }\n",
       "</style>\n",
       "<table border=\"1\" class=\"dataframe\">\n",
       "  <thead>\n",
       "    <tr style=\"text-align: right;\">\n",
       "      <th></th>\n",
       "      <th>bmi</th>\n",
       "      <th>gender</th>\n",
       "      <th>is_training</th>\n",
       "      <th>name</th>\n",
       "      <th>img_path</th>\n",
       "    </tr>\n",
       "  </thead>\n",
       "  <tbody>\n",
       "    <tr>\n",
       "      <th>0</th>\n",
       "      <td>34.207396</td>\n",
       "      <td>Male</td>\n",
       "      <td>1</td>\n",
       "      <td>img_0.bmp</td>\n",
       "      <td>../data/BMI/Images/img_0.bmp</td>\n",
       "    </tr>\n",
       "    <tr>\n",
       "      <th>1</th>\n",
       "      <td>26.453720</td>\n",
       "      <td>Male</td>\n",
       "      <td>1</td>\n",
       "      <td>img_1.bmp</td>\n",
       "      <td>../data/BMI/Images/img_1.bmp</td>\n",
       "    </tr>\n",
       "    <tr>\n",
       "      <th>2</th>\n",
       "      <td>34.967561</td>\n",
       "      <td>Female</td>\n",
       "      <td>1</td>\n",
       "      <td>img_2.bmp</td>\n",
       "      <td>../data/BMI/Images/img_2.bmp</td>\n",
       "    </tr>\n",
       "    <tr>\n",
       "      <th>3</th>\n",
       "      <td>22.044766</td>\n",
       "      <td>Female</td>\n",
       "      <td>1</td>\n",
       "      <td>img_3.bmp</td>\n",
       "      <td>../data/BMI/Images/img_3.bmp</td>\n",
       "    </tr>\n",
       "    <tr>\n",
       "      <th>4</th>\n",
       "      <td>25.845588</td>\n",
       "      <td>Female</td>\n",
       "      <td>1</td>\n",
       "      <td>img_6.bmp</td>\n",
       "      <td>../data/BMI/Images/img_6.bmp</td>\n",
       "    </tr>\n",
       "  </tbody>\n",
       "</table>\n",
       "</div>"
      ],
      "text/plain": [
       "         bmi  gender  is_training       name                      img_path\n",
       "0  34.207396    Male            1  img_0.bmp  ../data/BMI/Images/img_0.bmp\n",
       "1  26.453720    Male            1  img_1.bmp  ../data/BMI/Images/img_1.bmp\n",
       "2  34.967561  Female            1  img_2.bmp  ../data/BMI/Images/img_2.bmp\n",
       "3  22.044766  Female            1  img_3.bmp  ../data/BMI/Images/img_3.bmp\n",
       "4  25.845588  Female            1  img_6.bmp  ../data/BMI/Images/img_6.bmp"
      ]
     },
     "execution_count": 2,
     "metadata": {},
     "output_type": "execute_result"
    }
   ],
   "source": [
    "df = pd.read_csv('../data/BMI/cleaned_data.csv')\n",
    "df['img_path'] = df['name'].apply(lambda x: f\"../data/BMI/Images/{x}\")\n",
    "df.head()"
   ]
  },
  {
   "cell_type": "markdown",
   "id": "ee8f1ab9",
   "metadata": {},
   "source": [
    "# Initalization"
   ]
  },
  {
   "cell_type": "code",
   "execution_count": 9,
   "id": "74087bd4",
   "metadata": {},
   "outputs": [
    {
     "name": "stderr",
     "output_type": "stream",
     "text": [
      "Downloading: \"https://www.adrianbulat.com/downloads/python-fan/3DFAN4-4a694010b9.zip\" to /Users/bhsst/.cache/torch/hub/checkpoints/3DFAN4-4a694010b9.zip\n",
      "100%|██████████| 91.9M/91.9M [00:06<00:00, 14.3MB/s]\n"
     ]
    }
   ],
   "source": [
    "fa = face_alignment.FaceAlignment(2, flip_input= False, device= 'cpu')"
   ]
  },
  {
   "cell_type": "markdown",
   "id": "8cb007e1",
   "metadata": {},
   "source": [
    "# Landmark Extraction"
   ]
  },
  {
   "cell_type": "code",
   "execution_count": 10,
   "id": "6e27e2f9",
   "metadata": {},
   "outputs": [
    {
     "name": "stderr",
     "output_type": "stream",
     "text": [
      " 98%|█████████▊| 3876/3962 [25:47<00:36,  2.38it/s]/opt/homebrew/Caskroom/miniforge/base/envs/ml2/lib/python3.10/site-packages/face_alignment/api.py:147: UserWarning: No faces were detected.\n",
      "  warnings.warn(\"No faces were detected.\")\n",
      "100%|██████████| 3962/3962 [26:20<00:00,  2.51it/s]\n"
     ]
    }
   ],
   "source": [
    "landmarks = []\n",
    "failed_paths = []\n",
    "\n",
    "for i, row in tqdm(df.iterrows(), total=len(df)):\n",
    "    img_path = row['img_path']\n",
    "    try:\n",
    "        img = cv2.imread(img_path)\n",
    "        img_rgb = cv2.cvtColor(img, cv2.COLOR_BGR2RGB)\n",
    "\n",
    "        preds = fa.get_landmarks(img_rgb)\n",
    "        if preds is not None:\n",
    "            # Flatten (68, 2) → (136,)\n",
    "            landmarks.append(preds[0].flatten())\n",
    "        else:\n",
    "            landmarks.append([np.nan] * 136)\n",
    "            failed_paths.append(img_path)\n",
    "\n",
    "    except Exception as e:\n",
    "        landmarks.append([np.nan] * 136)\n",
    "        failed_paths.append(img_path)"
   ]
  },
  {
   "cell_type": "code",
   "execution_count": 11,
   "id": "244d9480",
   "metadata": {},
   "outputs": [
    {
     "data": {
      "text/plain": [
       "1"
      ]
     },
     "execution_count": 11,
     "metadata": {},
     "output_type": "execute_result"
    }
   ],
   "source": [
    "len(failed_paths)"
   ]
  },
  {
   "cell_type": "code",
   "execution_count": 12,
   "id": "d3f90b29",
   "metadata": {},
   "outputs": [
    {
     "data": {
      "text/plain": [
       "3962"
      ]
     },
     "execution_count": 12,
     "metadata": {},
     "output_type": "execute_result"
    }
   ],
   "source": [
    "len(landmarks)"
   ]
  },
  {
   "cell_type": "code",
   "execution_count": 13,
   "id": "152bdbf9",
   "metadata": {},
   "outputs": [
    {
     "data": {
      "text/plain": [
       "array([ 34.,  72.,  36.,  86.,  37.,  99.,  39., 111.,  42., 123.,  51.,\n",
       "       131.,  61., 138.,  72., 143.,  87., 146., 102., 144., 112., 139.,\n",
       "       119., 134., 124., 126., 129., 116., 131., 104., 134.,  93., 138.,\n",
       "        79.,  51.,  64.,  57.,  62.,  66.,  62.,  72.,  64.,  79.,  64.,\n",
       "       104.,  64., 111.,  62., 117.,  62., 124.,  64., 131.,  67.,  91.,\n",
       "        78.,  91.,  88.,  91.,  96.,  91., 103.,  81., 104.,  86., 106.,\n",
       "        91., 108.,  96., 106.,  99., 106.,  59.,  74.,  66.,  74.,  71.,\n",
       "        72.,  77.,  76.,  72.,  78.,  66.,  78., 104.,  76., 109.,  74.,\n",
       "       116.,  74., 121.,  76., 116.,  79., 109.,  78.,  69., 118.,  77.,\n",
       "       116.,  86., 114.,  89., 116.,  94., 114., 101., 116., 107., 118.,\n",
       "       101., 121.,  94., 123.,  89., 123.,  84., 121.,  77., 119.,  71.,\n",
       "       118.,  84., 118.,  89., 118.,  94., 118., 106., 118.,  94., 118.,\n",
       "        89., 118.,  84., 118.], dtype=float32)"
      ]
     },
     "execution_count": 13,
     "metadata": {},
     "output_type": "execute_result"
    }
   ],
   "source": [
    "landmarks[0]"
   ]
  },
  {
   "cell_type": "code",
   "execution_count": 14,
   "id": "3c426ca3",
   "metadata": {},
   "outputs": [],
   "source": [
    "# Convert to array\n",
    "landmarks_array = np.array(landmarks)\n",
    "\n",
    "# Save as .npy\n",
    "np.save('landmark_features.npy', landmarks_array)"
   ]
  },
  {
   "cell_type": "code",
   "execution_count": 15,
   "id": "bbbcd098",
   "metadata": {},
   "outputs": [
    {
     "name": "stdout",
     "output_type": "stream",
     "text": [
      "Saved landmark_features.npy and landmark_features.csv\n"
     ]
    }
   ],
   "source": [
    "# Save as .csv with BMI and filename\n",
    "df_landmarks = pd.DataFrame(landmarks_array)\n",
    "df_landmarks['bmi'] = df['bmi'].values\n",
    "df_landmarks['name'] = df['name'].values  # Optional\n",
    "df_landmarks.to_csv('landmark_features.csv', index=False)\n",
    "\n",
    "print(\"Saved landmark_features.npy and landmark_features.csv\")"
   ]
  },
  {
   "cell_type": "code",
   "execution_count": 16,
   "id": "318f3fbd",
   "metadata": {},
   "outputs": [
    {
     "name": "stdout",
     "output_type": "stream",
     "text": [
      "Cleaned and saved without failed rows.\n"
     ]
    }
   ],
   "source": [
    "# Convert to DataFrame\n",
    "landmarks_array = np.array(landmarks)\n",
    "df_landmarks = pd.DataFrame(landmarks_array)\n",
    "\n",
    "# Add BMI and name for alignment\n",
    "df_landmarks['bmi'] = df['bmi'].values\n",
    "df_landmarks['name'] = df['name'].values\n",
    "\n",
    "# Drop rows with any NaNs\n",
    "df_landmarks = df_landmarks.dropna()\n",
    "\n",
    "# Save clean versions\n",
    "df_landmarks.to_csv('landmark_features.csv', index=False)\n",
    "np.save('landmark_features.npy', df_landmarks.drop(columns=['bmi', 'name']).values)\n",
    "\n",
    "print(\"Cleaned and saved without failed rows.\")\n"
   ]
  }
 ],
 "metadata": {
  "kernelspec": {
   "display_name": "ml2",
   "language": "python",
   "name": "python3"
  },
  "language_info": {
   "codemirror_mode": {
    "name": "ipython",
    "version": 3
   },
   "file_extension": ".py",
   "mimetype": "text/x-python",
   "name": "python",
   "nbconvert_exporter": "python",
   "pygments_lexer": "ipython3",
   "version": "3.10.16"
  }
 },
 "nbformat": 4,
 "nbformat_minor": 5
}
